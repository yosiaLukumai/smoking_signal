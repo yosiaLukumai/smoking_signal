{
 "cells": [
  {
   "cell_type": "code",
   "execution_count": 1,
   "id": "1ffe2b40",
   "metadata": {},
   "outputs": [],
   "source": [
    "import pandas as pd\n",
    "import numpy as np\n",
    "import os \n",
    "import pathlib"
   ]
  },
  {
   "cell_type": "code",
   "execution_count": 2,
   "id": "3d443ba4",
   "metadata": {},
   "outputs": [],
   "source": [
    "# data importation\\\n",
    "dataPath = pathlib.Path(\"data\\smoking.csv\")\n",
    "dataObtained = pd.read_csv(str(dataPath))"
   ]
  },
  {
   "cell_type": "code",
   "execution_count": 13,
   "id": "8d02a0ad",
   "metadata": {},
   "outputs": [],
   "source": [
    "dataTartac = dataObtained.tartar\n",
    "dataOral = dataObtained.oral\n",
    "for index, char in enumerate(dataObtained.tartar):\n",
    "    if char == 'Y':\n",
    "        dataTartac[index] = 1\n",
    "    elif char == 'N':\n",
    "        dataTartac[index] = 0\n",
    "\n",
    "for index, char in enumerate(dataObtained.oral):\n",
    "    if char == 'Y':\n",
    "        dataOral[index] = 1\n",
    "    elif char == 'N':\n",
    "        dataOral[index] = 0\n",
    "\n"
   ]
  },
  {
   "cell_type": "code",
   "execution_count": 4,
   "id": "ee8f17e2",
   "metadata": {},
   "outputs": [],
   "source": [
    "class Smoking:\n",
    "    def __init__(self, data:list, output):\n",
    "        self.input = np.array(data).reshape(1, )\n",
    "    "
   ]
  },
  {
   "cell_type": "code",
   "execution_count": 14,
   "id": "c49d4776",
   "metadata": {},
   "outputs": [],
   "source": [
    "dataGender = dataObtained.gender\n",
    "\n",
    "for index, gender in enumerate(dataGender):\n",
    "    if gender == 'F':\n",
    "        dataGender[index] = 0\n",
    "    elif gender == 'M':\n",
    "        dataGender[index] = 1\n",
    "        "
   ]
  },
  {
   "cell_type": "code",
   "execution_count": 15,
   "id": "3bd3cafb",
   "metadata": {},
   "outputs": [],
   "source": [
    "# cleaned data\n",
    "col= dataObtained.columns\n",
    "dataObtained.gender = dataGender\n",
    "dataObtained.oral = dataOral\n",
    "dataObtained.tartar = dataTartac"
   ]
  },
  {
   "cell_type": "code",
   "execution_count": 7,
   "id": "12690940",
   "metadata": {},
   "outputs": [],
   "source": [
    "needColumns = col[1:-1]\n",
    "output = col[-1:]\n",
    "needdedcols = col[1:]"
   ]
  },
  {
   "cell_type": "code",
   "execution_count": 8,
   "id": "a37bd85c",
   "metadata": {},
   "outputs": [],
   "source": [
    "dataToBeUsed = dataObtained[needdedcols] "
   ]
  },
  {
   "cell_type": "code",
   "execution_count": 9,
   "id": "cd4475b0",
   "metadata": {},
   "outputs": [],
   "source": [
    "# splitting the data into some of the roughs\n",
    "from sklearn.model_selection import train_test_split\n",
    "\n",
    "training, testing = train_test_split(dataToBeUsed, train_size=0.67, test_size=0.33, random_state=20)"
   ]
  },
  {
   "cell_type": "code",
   "execution_count": 10,
   "id": "ca7b138b",
   "metadata": {},
   "outputs": [],
   "source": [
    "trainingArray = np.array(training)"
   ]
  }
 ],
 "metadata": {
  "kernelspec": {
   "display_name": "Python 3 (ipykernel)",
   "language": "python",
   "name": "python3"
  },
  "language_info": {
   "codemirror_mode": {
    "name": "ipython",
    "version": 3
   },
   "file_extension": ".py",
   "mimetype": "text/x-python",
   "name": "python",
   "nbconvert_exporter": "python",
   "pygments_lexer": "ipython3",
   "version": "3.7.2"
  }
 },
 "nbformat": 4,
 "nbformat_minor": 5
}
