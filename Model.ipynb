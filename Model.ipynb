{
 "cells": [
  {
   "cell_type": "code",
   "execution_count": 1,
   "id": "1ffe2b40",
   "metadata": {},
   "outputs": [],
   "source": [
    "import pandas as pd\n",
    "import numpy as np\n",
    "import os \n",
    "import pathlib"
   ]
  },
  {
   "cell_type": "code",
   "execution_count": 2,
   "id": "3d443ba4",
   "metadata": {},
   "outputs": [],
   "source": [
    "# data importation\\\n",
    "dataPath = pathlib.Path(\"data\\smoking.csv\")\n",
    "dataObtained = pd.read_csv(str(dataPath))"
   ]
  },
  {
   "cell_type": "code",
   "execution_count": 13,
   "id": "8d02a0ad",
   "metadata": {},
   "outputs": [],
   "source": [
    "dataTartac = dataObtained.tartar\n",
    "dataOral = dataObtained.oral\n",
    "for index, char in enumerate(dataObtained.tartar):\n",
    "    if char == 'Y':\n",
    "        dataTartac[index] = 1\n",
    "    elif char == 'N':\n",
    "        dataTartac[index] = 0\n",
    "\n",
    "for index, char in enumerate(dataObtained.oral):\n",
    "    if char == 'Y':\n",
    "        dataOral[index] = 1\n",
    "    elif char == 'N':\n",
    "        dataOral[index] = 0\n",
    "\n"
   ]
  },
  {
   "cell_type": "code",
   "execution_count": 69,
   "id": "ee8f17e2",
   "metadata": {},
   "outputs": [],
   "source": [
    "class Smoking:\n",
    "    \"\"\"\n",
    "    The class helps in converting the pandas DataFrame easier into the Numpy dataset\n",
    "    \"\"\"\n",
    "    def __init__(self, training,  testing, inputColums, outputColum, inputdim, outputdim):\n",
    "        self.inputColums = inputColums\n",
    "        self.outputColumn = outputColum\n",
    "        self.inputdim = inputdim\n",
    "        self.outputdim = outputdim\n",
    "        self.training_x = self.get_trainingx(training)\n",
    "        self.training_y = self.get_trainingy(training)\n",
    "        self.testing_x = self.get_testingx(testing)\n",
    "        self.testing_y = self.get_testingy(testing)\n",
    "    \n",
    "    def get_trainingx(self, training):\n",
    "        # here we have to pass the data into the output and the input\n",
    "        return training[self.inputColums].to_numpy()\n",
    "    def get_trainingy(self, training):\n",
    "        return training[self.outputColumn].to_numpy()\n",
    "    def get_testingx(self, testing):\n",
    "        return testing[self.inputColums].to_numpy()\n",
    "    def get_testingy(self, testing):\n",
    "        return testing[self.outputColumn].to_numpy()\n",
    "    "
   ]
  },
  {
   "cell_type": "code",
   "execution_count": 14,
   "id": "c49d4776",
   "metadata": {},
   "outputs": [],
   "source": [
    "dataGender = dataObtained.gender\n",
    "\n",
    "for index, gender in enumerate(dataGender):\n",
    "    if gender == 'F':\n",
    "        dataGender[index] = 0\n",
    "    elif gender == 'M':\n",
    "        dataGender[index] = 1\n",
    "        "
   ]
  },
  {
   "cell_type": "code",
   "execution_count": 15,
   "id": "3bd3cafb",
   "metadata": {},
   "outputs": [],
   "source": [
    "# cleaned data\n",
    "col= dataObtained.columns\n",
    "dataObtained.gender = dataGender\n",
    "dataObtained.oral = dataOral\n",
    "dataObtained.tartar = dataTartac"
   ]
  },
  {
   "cell_type": "code",
   "execution_count": null,
   "id": "9d488f41",
   "metadata": {},
   "outputs": [],
   "source": []
  },
  {
   "cell_type": "code",
   "execution_count": 38,
   "id": "12690940",
   "metadata": {},
   "outputs": [
    {
     "data": {
      "text/plain": [
       "25"
      ]
     },
     "execution_count": 38,
     "metadata": {},
     "output_type": "execute_result"
    }
   ],
   "source": [
    "needdedcols = col[1:]\n",
    "inputColums = needdedcols[:-1]\n",
    "outputColumn  = needdedcols[-1:]"
   ]
  },
  {
   "cell_type": "code",
   "execution_count": 8,
   "id": "a37bd85c",
   "metadata": {},
   "outputs": [],
   "source": [
    "dataToBeUsed = dataObtained[needdedcols] "
   ]
  },
  {
   "cell_type": "code",
   "execution_count": 9,
   "id": "cd4475b0",
   "metadata": {},
   "outputs": [],
   "source": [
    "# splitting the data into some of the roughs\n",
    "from sklearn.model_selection import train_test_split\n",
    "\n",
    "training, testing = train_test_split(dataToBeUsed, train_size=0.67, test_size=0.33, random_state=20)"
   ]
  },
  {
   "cell_type": "code",
   "execution_count": 72,
   "id": "ca7b138b",
   "metadata": {},
   "outputs": [
    {
     "data": {
      "text/plain": [
       "37313"
      ]
     },
     "execution_count": 72,
     "metadata": {},
     "output_type": "execute_result"
    }
   ],
   "source": [
    "# splitting the dataset into x's and y's\n",
    "smokingData = Smoking(training, testing, inputColums, outputColumn, 25, 2)"
   ]
  },
  {
   "cell_type": "code",
   "execution_count": 52,
   "id": "42f7b92d",
   "metadata": {},
   "outputs": [],
   "source": [
    "# now let train the shit\n",
    "from sklearn import svm\n",
    "from sklearn.tree import DecisonTree"
   ]
  }
 ],
 "metadata": {
  "kernelspec": {
   "display_name": "Python 3 (ipykernel)",
   "language": "python",
   "name": "python3"
  },
  "language_info": {
   "codemirror_mode": {
    "name": "ipython",
    "version": 3
   },
   "file_extension": ".py",
   "mimetype": "text/x-python",
   "name": "python",
   "nbconvert_exporter": "python",
   "pygments_lexer": "ipython3",
   "version": "3.7.2"
  }
 },
 "nbformat": 4,
 "nbformat_minor": 5
}
